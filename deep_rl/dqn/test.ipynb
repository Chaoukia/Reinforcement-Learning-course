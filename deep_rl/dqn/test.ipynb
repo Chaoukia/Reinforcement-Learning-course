{
 "cells": [
  {
   "cell_type": "code",
   "execution_count": 10,
   "id": "a58a7f5a",
   "metadata": {},
   "outputs": [],
   "source": [
    "import numpy as np\n",
    "import torch\n",
    "import gymnasium as gym\n",
    "from utils import Memory"
   ]
  },
  {
   "cell_type": "code",
   "execution_count": 2,
   "id": "7086ae8d",
   "metadata": {},
   "outputs": [],
   "source": [
    "a, b = np.ones(5), np.zeros(5)"
   ]
  },
  {
   "cell_type": "code",
   "execution_count": 11,
   "id": "fe478e84",
   "metadata": {},
   "outputs": [
    {
     "data": {
      "text/plain": [
       "tensor([[1., 1., 1., 1., 1.],\n",
       "        [0., 0., 0., 0., 0.]], dtype=torch.float64)"
      ]
     },
     "execution_count": 11,
     "metadata": {},
     "output_type": "execute_result"
    }
   ],
   "source": [
    "torch.tensor(np.vstack((a, b)))"
   ]
  },
  {
   "cell_type": "code",
   "execution_count": 9,
   "id": "35486ba0",
   "metadata": {},
   "outputs": [
    {
     "data": {
      "text/plain": [
       "(5,)"
      ]
     },
     "execution_count": 9,
     "metadata": {},
     "output_type": "execute_result"
    }
   ],
   "source": [
    "a.shape"
   ]
  },
  {
   "cell_type": "code",
   "execution_count": 2,
   "id": "646001a1",
   "metadata": {},
   "outputs": [],
   "source": [
    "env = gym.make(\"LunarLander-v3\", continuous=False, gravity=-10.0,enable_wind=False, wind_power=0.0, turbulence_power=0.0)"
   ]
  },
  {
   "cell_type": "code",
   "execution_count": 6,
   "id": "c7d05d1c",
   "metadata": {},
   "outputs": [],
   "source": [
    "state, _ = env.reset()"
   ]
  },
  {
   "cell_type": "code",
   "execution_count": 7,
   "id": "a2250a5b",
   "metadata": {},
   "outputs": [],
   "source": [
    "next_state, reward, _, _, _ = env.step(1)"
   ]
  },
  {
   "cell_type": "code",
   "execution_count": 9,
   "id": "0993a139",
   "metadata": {},
   "outputs": [
    {
     "data": {
      "text/plain": [
       "array([-0.00549994,  1.3991317 , -0.28551164, -0.27466375,  0.00866638,\n",
       "        0.11061255,  0.        ,  0.        ], dtype=float32)"
      ]
     },
     "execution_count": 9,
     "metadata": {},
     "output_type": "execute_result"
    }
   ],
   "source": [
    "next_state"
   ]
  },
  {
   "cell_type": "code",
   "execution_count": 11,
   "id": "d2d71cd1",
   "metadata": {},
   "outputs": [],
   "source": [
    "memory = Memory(max_size=10)"
   ]
  },
  {
   "cell_type": "code",
   "execution_count": 12,
   "id": "5f451e02",
   "metadata": {},
   "outputs": [],
   "source": [
    "memory.add(state, 1, reward, next_state, False)"
   ]
  },
  {
   "cell_type": "code",
   "execution_count": 13,
   "id": "0f98e7cf",
   "metadata": {},
   "outputs": [],
   "source": [
    "state = next_state\n",
    "next_state, reward, _, _, _ = env.step(1)\n",
    "memory.add(state, 1, reward, next_state, False)"
   ]
  },
  {
   "cell_type": "code",
   "execution_count": 15,
   "id": "752d2326",
   "metadata": {},
   "outputs": [],
   "source": [
    "batch = memory.sample(2)"
   ]
  },
  {
   "cell_type": "code",
   "execution_count": 32,
   "id": "516ff366",
   "metadata": {},
   "outputs": [],
   "source": [
    "c = torch.tensor(np.vstack(batch.state))"
   ]
  },
  {
   "cell_type": "code",
   "execution_count": 33,
   "id": "d9bf7dd1",
   "metadata": {},
   "outputs": [
    {
     "data": {
      "text/plain": [
       "tensor([[-0.0027,  1.4053, -0.2736, -0.2493,  0.0031,  0.0620,  0.0000,  0.0000],\n",
       "        [-0.0055,  1.3991, -0.2855, -0.2747,  0.0087,  0.1106,  0.0000,  0.0000]])"
      ]
     },
     "execution_count": 33,
     "metadata": {},
     "output_type": "execute_result"
    }
   ],
   "source": [
    "c"
   ]
  },
  {
   "cell_type": "code",
   "execution_count": 35,
   "id": "20f6075b",
   "metadata": {},
   "outputs": [
    {
     "data": {
      "text/plain": [
       "tensor([-0.0027,  1.3991])"
      ]
     },
     "execution_count": 35,
     "metadata": {},
     "output_type": "execute_result"
    }
   ],
   "source": [
    "c[[0, 1], [0, 1]]"
   ]
  },
  {
   "cell_type": "code",
   "execution_count": 40,
   "id": "4db9f35c",
   "metadata": {},
   "outputs": [
    {
     "data": {
      "text/plain": [
       "array([1, 2])"
      ]
     },
     "execution_count": 40,
     "metadata": {},
     "output_type": "execute_result"
    }
   ],
   "source": [
    "np.array(([1, 2]))"
   ]
  },
  {
   "cell_type": "code",
   "execution_count": 42,
   "id": "2ec02d7b",
   "metadata": {},
   "outputs": [
    {
     "data": {
      "text/plain": [
       "tensor([[1., 1., 1., 1., 1.],\n",
       "        [1., 1., 1., 1., 1.],\n",
       "        [1., 1., 1., 1., 1.],\n",
       "        [1., 1., 1., 1., 1.],\n",
       "        [1., 1., 1., 1., 1.]])"
      ]
     },
     "execution_count": 42,
     "metadata": {},
     "output_type": "execute_result"
    }
   ],
   "source": [
    "torch.ones(5)*torch.ones((5, 1))"
   ]
  },
  {
   "cell_type": "code",
   "execution_count": 43,
   "id": "2e120e2a",
   "metadata": {},
   "outputs": [
    {
     "data": {
      "text/plain": [
       "torch.Size([5, 1])"
      ]
     },
     "execution_count": 43,
     "metadata": {},
     "output_type": "execute_result"
    }
   ],
   "source": [
    "torch.ones((5, 1)).shape"
   ]
  },
  {
   "cell_type": "code",
   "execution_count": null,
   "id": "6dad3bf7",
   "metadata": {},
   "outputs": [],
   "source": []
  },
  {
   "cell_type": "code",
   "execution_count": null,
   "id": "8427bff3",
   "metadata": {},
   "outputs": [],
   "source": []
  },
  {
   "cell_type": "code",
   "execution_count": null,
   "id": "0bed606f",
   "metadata": {},
   "outputs": [],
   "source": []
  }
 ],
 "metadata": {
  "kernelspec": {
   "display_name": "py312",
   "language": "python",
   "name": "python3"
  },
  "language_info": {
   "codemirror_mode": {
    "name": "ipython",
    "version": 3
   },
   "file_extension": ".py",
   "mimetype": "text/x-python",
   "name": "python",
   "nbconvert_exporter": "python",
   "pygments_lexer": "ipython3",
   "version": "3.12.3"
  }
 },
 "nbformat": 4,
 "nbformat_minor": 5
}
