{
 "cells": [
  {
   "cell_type": "code",
   "execution_count": 1,
   "metadata": {},
   "outputs": [],
   "source": [
    "import numpy as np\n",
    "import gymnasium as gym\n",
    "from agents import FrozenLakeAstar"
   ]
  },
  {
   "cell_type": "code",
   "execution_count": 2,
   "metadata": {},
   "outputs": [],
   "source": [
    "env = gym.make('FrozenLake-v1', is_slippery=False, map_name='8x8')"
   ]
  },
  {
   "cell_type": "code",
   "execution_count": 3,
   "metadata": {},
   "outputs": [],
   "source": [
    "agent = FrozenLakeAstar(env)\n",
    "root, _ = env.reset()"
   ]
  },
  {
   "cell_type": "code",
   "execution_count": 4,
   "metadata": {},
   "outputs": [
    {
     "name": "stdout",
     "output_type": "stream",
     "text": [
      "An optimal policy has been found after 20 iterations.\n"
     ]
    }
   ],
   "source": [
    "agent.train(root)"
   ]
  },
  {
   "cell_type": "code",
   "execution_count": 5,
   "metadata": {},
   "outputs": [
    {
     "name": "stdout",
     "output_type": "stream",
     "text": [
      "Episode : 0, length : 18, return : 1.000\n",
      "Episode : 1, length : 18, return : 1.000\n",
      "Episode : 2, length : 18, return : 1.000\n",
      "Episode : 3, length : 18, return : 1.000\n",
      "Episode : 4, length : 18, return : 1.000\n",
      "Episode : 5, length : 18, return : 1.000\n",
      "Episode : 6, length : 18, return : 1.000\n",
      "Episode : 7, length : 18, return : 1.000\n",
      "Episode : 8, length : 18, return : 1.000\n",
      "Episode : 9, length : 18, return : 1.000\n",
      "avg : 1.000, std : 0.000\n"
     ]
    },
    {
     "data": {
      "text/plain": [
       "(1.0, 0.0)"
      ]
     },
     "execution_count": 5,
     "metadata": {},
     "output_type": "execute_result"
    }
   ],
   "source": [
    "agent.test(env, n_episodes=10, verbose=True)"
   ]
  },
  {
   "cell_type": "code",
   "execution_count": 7,
   "metadata": {},
   "outputs": [
    {
     "name": "stdout",
     "output_type": "stream",
     "text": [
      "Episode : 0, length : 18, return : 1.000\n",
      "Episode : 1, length : 18, return : 1.000\n",
      "Episode : 2, length : 18, return : 1.000\n",
      "Episode : 3, length : 18, return : 1.000\n",
      "Episode : 4, length : 18, return : 1.000\n",
      "avg : 1.000, std : 0.000\n"
     ]
    }
   ],
   "source": [
    "env = gym.make('FrozenLake-v1', is_slippery=False, render_mode='human', map_name='8x8')\n",
    "agent.test(env, n_episodes=5, verbose=True)\n",
    "env.close()"
   ]
  },
  {
   "cell_type": "code",
   "execution_count": null,
   "metadata": {},
   "outputs": [],
   "source": []
  },
  {
   "cell_type": "code",
   "execution_count": null,
   "metadata": {},
   "outputs": [],
   "source": []
  },
  {
   "cell_type": "code",
   "execution_count": null,
   "metadata": {},
   "outputs": [],
   "source": []
  },
  {
   "cell_type": "code",
   "execution_count": null,
   "metadata": {},
   "outputs": [],
   "source": []
  }
 ],
 "metadata": {
  "kernelspec": {
   "display_name": "py312",
   "language": "python",
   "name": "python3"
  },
  "language_info": {
   "codemirror_mode": {
    "name": "ipython",
    "version": 3
   },
   "file_extension": ".py",
   "mimetype": "text/x-python",
   "name": "python",
   "nbconvert_exporter": "python",
   "pygments_lexer": "ipython3",
   "version": "3.12.3"
  }
 },
 "nbformat": 4,
 "nbformat_minor": 2
}
